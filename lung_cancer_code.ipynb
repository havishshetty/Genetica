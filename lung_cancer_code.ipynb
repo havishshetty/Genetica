{
 "cells": [
  {
   "cell_type": "code",
   "execution_count": 2,
   "metadata": {},
   "outputs": [
    {
     "name": "stdout",
     "output_type": "stream",
     "text": [
      "First 5 rows of the dataset:\n",
      "   index Patient Id  Age  Gender  Air Pollution  Alcohol use  Dust Allergy  \\\n",
      "0      0         P1   33       1              2            4             5   \n",
      "1      1        P10   17       1              3            1             5   \n",
      "2      2       P100   35       1              4            5             6   \n",
      "3      3      P1000   37       1              7            7             7   \n",
      "4      4       P101   46       1              6            8             7   \n",
      "\n",
      "   OccuPational Hazards  Genetic Risk  chronic Lung Disease  ...  Fatigue  \\\n",
      "0                     4             3                     2  ...        3   \n",
      "1                     3             4                     2  ...        1   \n",
      "2                     5             5                     4  ...        8   \n",
      "3                     7             6                     7  ...        4   \n",
      "4                     7             7                     6  ...        3   \n",
      "\n",
      "   Weight Loss  Shortness of Breath  Wheezing  Swallowing Difficulty  \\\n",
      "0            4                    2         2                      3   \n",
      "1            3                    7         8                      6   \n",
      "2            7                    9         2                      1   \n",
      "3            2                    3         1                      4   \n",
      "4            2                    4         1                      4   \n",
      "\n",
      "   Clubbing of Finger Nails  Frequent Cold  Dry Cough  Snoring  Level  \n",
      "0                         1              2          3        4    0.0  \n",
      "1                         2              1          7        2    1.0  \n",
      "2                         4              6          7        2    2.0  \n",
      "3                         5              6          7        5    2.0  \n",
      "4                         2              4          2        3    2.0  \n",
      "\n",
      "[5 rows x 26 columns]\n",
      "\n",
      "Missing values in each column:\n",
      "index                       0\n",
      "Patient Id                  0\n",
      "Age                         0\n",
      "Gender                      0\n",
      "Air Pollution               0\n",
      "Alcohol use                 0\n",
      "Dust Allergy                0\n",
      "OccuPational Hazards        0\n",
      "Genetic Risk                0\n",
      "chronic Lung Disease        0\n",
      "Balanced Diet               0\n",
      "Obesity                     0\n",
      "Smoking                     0\n",
      "Passive Smoker              0\n",
      "Chest Pain                  0\n",
      "Coughing of Blood           0\n",
      "Fatigue                     0\n",
      "Weight Loss                 0\n",
      "Shortness of Breath         0\n",
      "Wheezing                    0\n",
      "Swallowing Difficulty       0\n",
      "Clubbing of Finger Nails    0\n",
      "Frequent Cold               0\n",
      "Dry Cough                   0\n",
      "Snoring                     0\n",
      "Level                       0\n",
      "dtype: int64\n"
     ]
    }
   ],
   "source": [
    "import pandas as pd\n",
    "\n",
    "# Load the dataset\n",
    "df = pd.read_csv(r'C:\\Users\\Lenovo\\Downloads\\lung_cancer_new\\lung-cancer-prediction-main\\cancer patient data sets.csv')\n",
    "\n",
    "# Display the first few rows of the dataset\n",
    "print(\"First 5 rows of the dataset:\")\n",
    "print(df.head())\n",
    "\n",
    "# Check for missing values\n",
    "print(\"\\nMissing values in each column:\")\n",
    "print(df.isnull().sum())\n"
   ]
  },
  {
   "cell_type": "code",
   "execution_count": 3,
   "metadata": {},
   "outputs": [],
   "source": [
    "from sklearn.preprocessing import LabelEncoder\n",
    "\n",
    "# Encode categorical variables like 'Gender'\n",
    "le = LabelEncoder()\n",
    "df['Gender'] = le.fit_transform(df['Gender'])\n",
    "\n",
    "# Drop unnecessary columns\n",
    "X = df.drop(columns=['Level', 'Patient Id', 'index'])  # Adjust as per your dataset\n",
    "y = df['Level']\n"
   ]
  },
  {
   "cell_type": "code",
   "execution_count": 4,
   "metadata": {},
   "outputs": [
    {
     "name": "stdout",
     "output_type": "stream",
     "text": [
      "Data has been split into training and testing sets.\n"
     ]
    }
   ],
   "source": [
    "from sklearn.model_selection import train_test_split\n",
    "\n",
    "# Split the dataset into training and testing sets\n",
    "X_train, X_test, y_train, y_test = train_test_split(X, y, test_size=0.2, random_state=42)\n",
    "\n",
    "print(\"Data has been split into training and testing sets.\")\n"
   ]
  },
  {
   "cell_type": "code",
   "execution_count": 5,
   "metadata": {},
   "outputs": [
    {
     "name": "stdout",
     "output_type": "stream",
     "text": [
      "Accuracy: 100.00%\n"
     ]
    }
   ],
   "source": [
    "from sklearn.ensemble import RandomForestClassifier\n",
    "from sklearn.metrics import accuracy_score\n",
    "\n",
    "# Initialize the Random Forest classifier\n",
    "rf_model = RandomForestClassifier(n_estimators=100, random_state=42)\n",
    "\n",
    "# Train the model\n",
    "rf_model.fit(X_train, y_train)\n",
    "\n",
    "# Predict on test data\n",
    "y_pred = rf_model.predict(X_test)\n",
    "\n",
    "# Evaluate the model\n",
    "accuracy = accuracy_score(y_test, y_pred)\n",
    "print(f\"Accuracy: {accuracy * 100:.2f}%\")\n"
   ]
  },
  {
   "cell_type": "code",
   "execution_count": 6,
   "metadata": {},
   "outputs": [
    {
     "name": "stdout",
     "output_type": "stream",
     "text": [
      "Classification Report:\n",
      "              precision    recall  f1-score   support\n",
      "\n",
      "         0.0       1.00      1.00      1.00        55\n",
      "         1.0       1.00      1.00      1.00        63\n",
      "         2.0       1.00      1.00      1.00        82\n",
      "\n",
      "    accuracy                           1.00       200\n",
      "   macro avg       1.00      1.00      1.00       200\n",
      "weighted avg       1.00      1.00      1.00       200\n",
      "\n"
     ]
    }
   ],
   "source": [
    "from sklearn.metrics import classification_report\n",
    "\n",
    "# Print detailed classification report\n",
    "print(\"Classification Report:\")\n",
    "print(classification_report(y_test, y_pred))\n"
   ]
  },
  {
   "cell_type": "code",
   "execution_count": 7,
   "metadata": {},
   "outputs": [
    {
     "data": {
      "image/png": "[encoded data removed]",
      "text/plain": [
       "<Figure size 640x480 with 2 Axes>"
      ]
     },
     "metadata": {},
     "output_type": "display_data"
    }
   ],
   "source": [
    "from sklearn.metrics import confusion_matrix\n",
    "import seaborn as sns\n",
    "import matplotlib.pyplot as plt\n",
    "\n",
    "# Generate the confusion matrix\n",
    "cm = confusion_matrix(y_test, y_pred)\n",
    "\n",
    "# Plot the confusion matrix\n",
    "sns.heatmap(cm, annot=True, fmt='d')\n",
    "plt.xlabel('Predicted')\n",
    "plt.ylabel('Actual')\n",
    "plt.show()\n"
   ]
  },
  {
   "cell_type": "code",
   "execution_count": 8,
   "metadata": {},
   "outputs": [
    {
     "name": "stdout",
     "output_type": "stream",
     "text": [
      "Best parameters found: {'max_depth': None, 'min_samples_split': 2, 'n_estimators': 50}\n"
     ]
    }
   ],
   "source": [
    "from sklearn.model_selection import GridSearchCV\n",
    "\n",
    "# Define the parameter grid\n",
    "param_grid = {\n",
    "    'n_estimators': [50, 100, 200],\n",
    "    'max_depth': [None, 10, 20, 30],\n",
    "    'min_samples_split': [2, 5, 10]\n",
    "}\n",
    "\n",
    "# Initialize GridSearchCV\n",
    "grid_search = GridSearchCV(estimator=rf_model, param_grid=param_grid, cv=5, scoring='accuracy')\n",
    "\n",
    "# Fit the grid search to the data\n",
    "grid_search.fit(X_train, y_train)\n",
    "\n",
    "# Best parameters\n",
    "print(\"Best parameters found:\", grid_search.best_params_)\n"
   ]
  },
  {
   "cell_type": "code",
   "execution_count": 9,
   "metadata": {},
   "outputs": [
    {
     "name": "stdout",
     "output_type": "stream",
     "text": [
      "Model saved successfully!\n"
     ]
    }
   ],
   "source": [
    "import pickle\n",
    "\n",
    "# Save the trained model as a .pkl file\n",
    "with open('lung_cancer_rf_model.pkl', 'wb') as f:\n",
    "    pickle.dump(rf_model, f)\n",
    "\n",
    "print(\"Model saved successfully!\")\n"
   ]
  },
  {
   "cell_type": "code",
   "execution_count": 25,
   "metadata": {},
   "outputs": [
    {
     "name": "stdout",
     "output_type": "stream",
     "text": [
      "Predicted cancer level: 1.0\n"
     ]
    }
   ],
   "source": [
    "# Format the new patient data\n",
    "new_patient_data = pd.DataFrame([[44, 1, 6, 5, 7, 5, 7, 6, 7, 3, 7, 5, 5, 7, 5, 3, 2, 4, 5, 2, 4, 5, 3]], \n",
    "                                columns=X.columns)\n",
    "\n",
    "# Make a prediction\n",
    "new_prediction = rf_model.predict(new_patient_data)\n",
    "\n",
    "# Display the result\n",
    "print(f\"Predicted cancer level: {new_prediction[0]}\")\n"
   ]
  }
 ],
 "metadata": {
  "kernelspec": {
   "display_name": "Python 3",
   "language": "python",
   "name": "python3"
  },
  "language_info": {
   "codemirror_mode": {
    "name": "ipython",
    "version": 3
   },
   "file_extension": ".py",
   "mimetype": "text/x-python",
   "name": "python",
   "nbconvert_exporter": "python",
   "pygments_lexer": "ipython3",
   "version": "3.12.3"
  }
 },
 "nbformat": 4,
 "nbformat_minor": 2
}
